{
 "cells": [
  {
   "cell_type": "markdown",
   "id": "053fd70e",
   "metadata": {},
   "source": [
    "# importing the libraries"
   ]
  },
  {
   "cell_type": "code",
   "execution_count": 34,
   "id": "315da754",
   "metadata": {},
   "outputs": [],
   "source": [
    "import pandas as pd\n",
    "import numpy as np\n",
    "import matplotlib.pyplot as plt\n",
    "from sklearn import linear_model\n",
    "import seaborn as sns\n",
    "from sklearn.linear_model import LinearRegression\n",
    "from sklearn import metrics"
   ]
  },
  {
   "cell_type": "markdown",
   "id": "17bfe975",
   "metadata": {},
   "source": [
    "## loading the data"
   ]
  },
  {
   "cell_type": "code",
   "execution_count": 2,
   "id": "0d834a99",
   "metadata": {},
   "outputs": [
    {
     "data": {
      "text/html": [
       "<div>\n",
       "<style scoped>\n",
       "    .dataframe tbody tr th:only-of-type {\n",
       "        vertical-align: middle;\n",
       "    }\n",
       "\n",
       "    .dataframe tbody tr th {\n",
       "        vertical-align: top;\n",
       "    }\n",
       "\n",
       "    .dataframe thead th {\n",
       "        text-align: right;\n",
       "    }\n",
       "</style>\n",
       "<table border=\"1\" class=\"dataframe\">\n",
       "  <thead>\n",
       "    <tr style=\"text-align: right;\">\n",
       "      <th></th>\n",
       "      <th>CRIM</th>\n",
       "      <th>ZN</th>\n",
       "      <th>INDUS</th>\n",
       "      <th>CHAS</th>\n",
       "      <th>NOX</th>\n",
       "      <th>RM</th>\n",
       "      <th>AGE</th>\n",
       "      <th>DIS</th>\n",
       "      <th>RAD</th>\n",
       "      <th>TAX</th>\n",
       "      <th>PTRATIO</th>\n",
       "      <th>B</th>\n",
       "      <th>LSTAT</th>\n",
       "      <th>MEDV</th>\n",
       "    </tr>\n",
       "  </thead>\n",
       "  <tbody>\n",
       "    <tr>\n",
       "      <th>0</th>\n",
       "      <td>0.00632</td>\n",
       "      <td>18.0</td>\n",
       "      <td>2.31</td>\n",
       "      <td>0</td>\n",
       "      <td>0.538</td>\n",
       "      <td>6.575</td>\n",
       "      <td>65.2</td>\n",
       "      <td>4.0900</td>\n",
       "      <td>1</td>\n",
       "      <td>296.0</td>\n",
       "      <td>15.3</td>\n",
       "      <td>396.90</td>\n",
       "      <td>4.98</td>\n",
       "      <td>24.0</td>\n",
       "    </tr>\n",
       "    <tr>\n",
       "      <th>1</th>\n",
       "      <td>0.02731</td>\n",
       "      <td>0.0</td>\n",
       "      <td>7.07</td>\n",
       "      <td>0</td>\n",
       "      <td>0.469</td>\n",
       "      <td>6.421</td>\n",
       "      <td>78.9</td>\n",
       "      <td>4.9671</td>\n",
       "      <td>2</td>\n",
       "      <td>242.0</td>\n",
       "      <td>17.8</td>\n",
       "      <td>396.90</td>\n",
       "      <td>9.14</td>\n",
       "      <td>21.6</td>\n",
       "    </tr>\n",
       "    <tr>\n",
       "      <th>2</th>\n",
       "      <td>0.02729</td>\n",
       "      <td>0.0</td>\n",
       "      <td>7.07</td>\n",
       "      <td>0</td>\n",
       "      <td>0.469</td>\n",
       "      <td>7.185</td>\n",
       "      <td>61.1</td>\n",
       "      <td>4.9671</td>\n",
       "      <td>2</td>\n",
       "      <td>242.0</td>\n",
       "      <td>17.8</td>\n",
       "      <td>392.83</td>\n",
       "      <td>4.03</td>\n",
       "      <td>34.7</td>\n",
       "    </tr>\n",
       "    <tr>\n",
       "      <th>3</th>\n",
       "      <td>0.03237</td>\n",
       "      <td>0.0</td>\n",
       "      <td>2.18</td>\n",
       "      <td>0</td>\n",
       "      <td>0.458</td>\n",
       "      <td>6.998</td>\n",
       "      <td>45.8</td>\n",
       "      <td>6.0622</td>\n",
       "      <td>3</td>\n",
       "      <td>222.0</td>\n",
       "      <td>18.7</td>\n",
       "      <td>394.63</td>\n",
       "      <td>2.94</td>\n",
       "      <td>33.4</td>\n",
       "    </tr>\n",
       "    <tr>\n",
       "      <th>4</th>\n",
       "      <td>0.06905</td>\n",
       "      <td>0.0</td>\n",
       "      <td>2.18</td>\n",
       "      <td>0</td>\n",
       "      <td>0.458</td>\n",
       "      <td>7.147</td>\n",
       "      <td>54.2</td>\n",
       "      <td>6.0622</td>\n",
       "      <td>3</td>\n",
       "      <td>222.0</td>\n",
       "      <td>18.7</td>\n",
       "      <td>396.90</td>\n",
       "      <td>5.33</td>\n",
       "      <td>36.2</td>\n",
       "    </tr>\n",
       "  </tbody>\n",
       "</table>\n",
       "</div>"
      ],
      "text/plain": [
       "      CRIM    ZN  INDUS  CHAS    NOX     RM   AGE     DIS  RAD    TAX  \\\n",
       "0  0.00632  18.0   2.31     0  0.538  6.575  65.2  4.0900    1  296.0   \n",
       "1  0.02731   0.0   7.07     0  0.469  6.421  78.9  4.9671    2  242.0   \n",
       "2  0.02729   0.0   7.07     0  0.469  7.185  61.1  4.9671    2  242.0   \n",
       "3  0.03237   0.0   2.18     0  0.458  6.998  45.8  6.0622    3  222.0   \n",
       "4  0.06905   0.0   2.18     0  0.458  7.147  54.2  6.0622    3  222.0   \n",
       "\n",
       "   PTRATIO       B  LSTAT  MEDV  \n",
       "0     15.3  396.90   4.98  24.0  \n",
       "1     17.8  396.90   9.14  21.6  \n",
       "2     17.8  392.83   4.03  34.7  \n",
       "3     18.7  394.63   2.94  33.4  \n",
       "4     18.7  396.90   5.33  36.2  "
      ]
     },
     "execution_count": 2,
     "metadata": {},
     "output_type": "execute_result"
    }
   ],
   "source": [
    "Boston=pd.read_csv('boston.csv')\n",
    "Boston.head()"
   ]
  },
  {
   "cell_type": "markdown",
   "id": "cd802566",
   "metadata": {},
   "source": [
    "### Obtaining some statistical information from the dataset"
   ]
  },
  {
   "cell_type": "code",
   "execution_count": 3,
   "id": "0de29a79",
   "metadata": {},
   "outputs": [
    {
     "data": {
      "text/html": [
       "<div>\n",
       "<style scoped>\n",
       "    .dataframe tbody tr th:only-of-type {\n",
       "        vertical-align: middle;\n",
       "    }\n",
       "\n",
       "    .dataframe tbody tr th {\n",
       "        vertical-align: top;\n",
       "    }\n",
       "\n",
       "    .dataframe thead th {\n",
       "        text-align: right;\n",
       "    }\n",
       "</style>\n",
       "<table border=\"1\" class=\"dataframe\">\n",
       "  <thead>\n",
       "    <tr style=\"text-align: right;\">\n",
       "      <th></th>\n",
       "      <th>CRIM</th>\n",
       "      <th>ZN</th>\n",
       "      <th>INDUS</th>\n",
       "      <th>CHAS</th>\n",
       "      <th>NOX</th>\n",
       "      <th>RM</th>\n",
       "      <th>AGE</th>\n",
       "      <th>DIS</th>\n",
       "      <th>RAD</th>\n",
       "      <th>TAX</th>\n",
       "      <th>PTRATIO</th>\n",
       "      <th>B</th>\n",
       "      <th>LSTAT</th>\n",
       "      <th>MEDV</th>\n",
       "    </tr>\n",
       "  </thead>\n",
       "  <tbody>\n",
       "    <tr>\n",
       "      <th>count</th>\n",
       "      <td>506.000000</td>\n",
       "      <td>506.000000</td>\n",
       "      <td>506.000000</td>\n",
       "      <td>506.000000</td>\n",
       "      <td>506.000000</td>\n",
       "      <td>506.000000</td>\n",
       "      <td>506.000000</td>\n",
       "      <td>506.000000</td>\n",
       "      <td>506.000000</td>\n",
       "      <td>506.000000</td>\n",
       "      <td>506.000000</td>\n",
       "      <td>506.000000</td>\n",
       "      <td>506.000000</td>\n",
       "      <td>506.000000</td>\n",
       "    </tr>\n",
       "    <tr>\n",
       "      <th>mean</th>\n",
       "      <td>3.613524</td>\n",
       "      <td>11.363636</td>\n",
       "      <td>11.136779</td>\n",
       "      <td>0.069170</td>\n",
       "      <td>0.554695</td>\n",
       "      <td>6.284634</td>\n",
       "      <td>68.574901</td>\n",
       "      <td>3.795043</td>\n",
       "      <td>9.549407</td>\n",
       "      <td>408.237154</td>\n",
       "      <td>18.455534</td>\n",
       "      <td>356.674032</td>\n",
       "      <td>12.653063</td>\n",
       "      <td>22.532806</td>\n",
       "    </tr>\n",
       "    <tr>\n",
       "      <th>std</th>\n",
       "      <td>8.601545</td>\n",
       "      <td>23.322453</td>\n",
       "      <td>6.860353</td>\n",
       "      <td>0.253994</td>\n",
       "      <td>0.115878</td>\n",
       "      <td>0.702617</td>\n",
       "      <td>28.148861</td>\n",
       "      <td>2.105710</td>\n",
       "      <td>8.707259</td>\n",
       "      <td>168.537116</td>\n",
       "      <td>2.164946</td>\n",
       "      <td>91.294864</td>\n",
       "      <td>7.141062</td>\n",
       "      <td>9.197104</td>\n",
       "    </tr>\n",
       "    <tr>\n",
       "      <th>min</th>\n",
       "      <td>0.006320</td>\n",
       "      <td>0.000000</td>\n",
       "      <td>0.460000</td>\n",
       "      <td>0.000000</td>\n",
       "      <td>0.385000</td>\n",
       "      <td>3.561000</td>\n",
       "      <td>2.900000</td>\n",
       "      <td>1.129600</td>\n",
       "      <td>1.000000</td>\n",
       "      <td>187.000000</td>\n",
       "      <td>12.600000</td>\n",
       "      <td>0.320000</td>\n",
       "      <td>1.730000</td>\n",
       "      <td>5.000000</td>\n",
       "    </tr>\n",
       "    <tr>\n",
       "      <th>25%</th>\n",
       "      <td>0.082045</td>\n",
       "      <td>0.000000</td>\n",
       "      <td>5.190000</td>\n",
       "      <td>0.000000</td>\n",
       "      <td>0.449000</td>\n",
       "      <td>5.885500</td>\n",
       "      <td>45.025000</td>\n",
       "      <td>2.100175</td>\n",
       "      <td>4.000000</td>\n",
       "      <td>279.000000</td>\n",
       "      <td>17.400000</td>\n",
       "      <td>375.377500</td>\n",
       "      <td>6.950000</td>\n",
       "      <td>17.025000</td>\n",
       "    </tr>\n",
       "    <tr>\n",
       "      <th>50%</th>\n",
       "      <td>0.256510</td>\n",
       "      <td>0.000000</td>\n",
       "      <td>9.690000</td>\n",
       "      <td>0.000000</td>\n",
       "      <td>0.538000</td>\n",
       "      <td>6.208500</td>\n",
       "      <td>77.500000</td>\n",
       "      <td>3.207450</td>\n",
       "      <td>5.000000</td>\n",
       "      <td>330.000000</td>\n",
       "      <td>19.050000</td>\n",
       "      <td>391.440000</td>\n",
       "      <td>11.360000</td>\n",
       "      <td>21.200000</td>\n",
       "    </tr>\n",
       "    <tr>\n",
       "      <th>75%</th>\n",
       "      <td>3.677083</td>\n",
       "      <td>12.500000</td>\n",
       "      <td>18.100000</td>\n",
       "      <td>0.000000</td>\n",
       "      <td>0.624000</td>\n",
       "      <td>6.623500</td>\n",
       "      <td>94.075000</td>\n",
       "      <td>5.188425</td>\n",
       "      <td>24.000000</td>\n",
       "      <td>666.000000</td>\n",
       "      <td>20.200000</td>\n",
       "      <td>396.225000</td>\n",
       "      <td>16.955000</td>\n",
       "      <td>25.000000</td>\n",
       "    </tr>\n",
       "    <tr>\n",
       "      <th>max</th>\n",
       "      <td>88.976200</td>\n",
       "      <td>100.000000</td>\n",
       "      <td>27.740000</td>\n",
       "      <td>1.000000</td>\n",
       "      <td>0.871000</td>\n",
       "      <td>8.780000</td>\n",
       "      <td>100.000000</td>\n",
       "      <td>12.126500</td>\n",
       "      <td>24.000000</td>\n",
       "      <td>711.000000</td>\n",
       "      <td>22.000000</td>\n",
       "      <td>396.900000</td>\n",
       "      <td>37.970000</td>\n",
       "      <td>50.000000</td>\n",
       "    </tr>\n",
       "  </tbody>\n",
       "</table>\n",
       "</div>"
      ],
      "text/plain": [
       "             CRIM          ZN       INDUS        CHAS         NOX          RM  \\\n",
       "count  506.000000  506.000000  506.000000  506.000000  506.000000  506.000000   \n",
       "mean     3.613524   11.363636   11.136779    0.069170    0.554695    6.284634   \n",
       "std      8.601545   23.322453    6.860353    0.253994    0.115878    0.702617   \n",
       "min      0.006320    0.000000    0.460000    0.000000    0.385000    3.561000   \n",
       "25%      0.082045    0.000000    5.190000    0.000000    0.449000    5.885500   \n",
       "50%      0.256510    0.000000    9.690000    0.000000    0.538000    6.208500   \n",
       "75%      3.677083   12.500000   18.100000    0.000000    0.624000    6.623500   \n",
       "max     88.976200  100.000000   27.740000    1.000000    0.871000    8.780000   \n",
       "\n",
       "              AGE         DIS         RAD         TAX     PTRATIO           B  \\\n",
       "count  506.000000  506.000000  506.000000  506.000000  506.000000  506.000000   \n",
       "mean    68.574901    3.795043    9.549407  408.237154   18.455534  356.674032   \n",
       "std     28.148861    2.105710    8.707259  168.537116    2.164946   91.294864   \n",
       "min      2.900000    1.129600    1.000000  187.000000   12.600000    0.320000   \n",
       "25%     45.025000    2.100175    4.000000  279.000000   17.400000  375.377500   \n",
       "50%     77.500000    3.207450    5.000000  330.000000   19.050000  391.440000   \n",
       "75%     94.075000    5.188425   24.000000  666.000000   20.200000  396.225000   \n",
       "max    100.000000   12.126500   24.000000  711.000000   22.000000  396.900000   \n",
       "\n",
       "            LSTAT        MEDV  \n",
       "count  506.000000  506.000000  \n",
       "mean    12.653063   22.532806  \n",
       "std      7.141062    9.197104  \n",
       "min      1.730000    5.000000  \n",
       "25%      6.950000   17.025000  \n",
       "50%     11.360000   21.200000  \n",
       "75%     16.955000   25.000000  \n",
       "max     37.970000   50.000000  "
      ]
     },
     "execution_count": 3,
     "metadata": {},
     "output_type": "execute_result"
    }
   ],
   "source": [
    "Boston.describe()"
   ]
  },
  {
   "cell_type": "markdown",
   "id": "4cb17da8",
   "metadata": {},
   "source": [
    "### Rename columns for better understanding"
   ]
  },
  {
   "cell_type": "code",
   "execution_count": 4,
   "id": "59e41d24",
   "metadata": {},
   "outputs": [
    {
     "data": {
      "text/html": [
       "<div>\n",
       "<style scoped>\n",
       "    .dataframe tbody tr th:only-of-type {\n",
       "        vertical-align: middle;\n",
       "    }\n",
       "\n",
       "    .dataframe tbody tr th {\n",
       "        vertical-align: top;\n",
       "    }\n",
       "\n",
       "    .dataframe thead th {\n",
       "        text-align: right;\n",
       "    }\n",
       "</style>\n",
       "<table border=\"1\" class=\"dataframe\">\n",
       "  <thead>\n",
       "    <tr style=\"text-align: right;\">\n",
       "      <th></th>\n",
       "      <th>CRIM</th>\n",
       "      <th>ZN</th>\n",
       "      <th>INDUS</th>\n",
       "      <th>CHAS</th>\n",
       "      <th>NOX</th>\n",
       "      <th>RM</th>\n",
       "      <th>AGE</th>\n",
       "      <th>DIS</th>\n",
       "      <th>RAD</th>\n",
       "      <th>TAX</th>\n",
       "      <th>PTRATIO</th>\n",
       "      <th>B</th>\n",
       "      <th>LSTAT</th>\n",
       "      <th>PRICE</th>\n",
       "    </tr>\n",
       "  </thead>\n",
       "  <tbody>\n",
       "    <tr>\n",
       "      <th>0</th>\n",
       "      <td>0.00632</td>\n",
       "      <td>18.0</td>\n",
       "      <td>2.31</td>\n",
       "      <td>0</td>\n",
       "      <td>0.538</td>\n",
       "      <td>6.575</td>\n",
       "      <td>65.2</td>\n",
       "      <td>4.0900</td>\n",
       "      <td>1</td>\n",
       "      <td>296.0</td>\n",
       "      <td>15.3</td>\n",
       "      <td>396.90</td>\n",
       "      <td>4.98</td>\n",
       "      <td>24.0</td>\n",
       "    </tr>\n",
       "    <tr>\n",
       "      <th>1</th>\n",
       "      <td>0.02731</td>\n",
       "      <td>0.0</td>\n",
       "      <td>7.07</td>\n",
       "      <td>0</td>\n",
       "      <td>0.469</td>\n",
       "      <td>6.421</td>\n",
       "      <td>78.9</td>\n",
       "      <td>4.9671</td>\n",
       "      <td>2</td>\n",
       "      <td>242.0</td>\n",
       "      <td>17.8</td>\n",
       "      <td>396.90</td>\n",
       "      <td>9.14</td>\n",
       "      <td>21.6</td>\n",
       "    </tr>\n",
       "    <tr>\n",
       "      <th>2</th>\n",
       "      <td>0.02729</td>\n",
       "      <td>0.0</td>\n",
       "      <td>7.07</td>\n",
       "      <td>0</td>\n",
       "      <td>0.469</td>\n",
       "      <td>7.185</td>\n",
       "      <td>61.1</td>\n",
       "      <td>4.9671</td>\n",
       "      <td>2</td>\n",
       "      <td>242.0</td>\n",
       "      <td>17.8</td>\n",
       "      <td>392.83</td>\n",
       "      <td>4.03</td>\n",
       "      <td>34.7</td>\n",
       "    </tr>\n",
       "    <tr>\n",
       "      <th>3</th>\n",
       "      <td>0.03237</td>\n",
       "      <td>0.0</td>\n",
       "      <td>2.18</td>\n",
       "      <td>0</td>\n",
       "      <td>0.458</td>\n",
       "      <td>6.998</td>\n",
       "      <td>45.8</td>\n",
       "      <td>6.0622</td>\n",
       "      <td>3</td>\n",
       "      <td>222.0</td>\n",
       "      <td>18.7</td>\n",
       "      <td>394.63</td>\n",
       "      <td>2.94</td>\n",
       "      <td>33.4</td>\n",
       "    </tr>\n",
       "    <tr>\n",
       "      <th>4</th>\n",
       "      <td>0.06905</td>\n",
       "      <td>0.0</td>\n",
       "      <td>2.18</td>\n",
       "      <td>0</td>\n",
       "      <td>0.458</td>\n",
       "      <td>7.147</td>\n",
       "      <td>54.2</td>\n",
       "      <td>6.0622</td>\n",
       "      <td>3</td>\n",
       "      <td>222.0</td>\n",
       "      <td>18.7</td>\n",
       "      <td>396.90</td>\n",
       "      <td>5.33</td>\n",
       "      <td>36.2</td>\n",
       "    </tr>\n",
       "  </tbody>\n",
       "</table>\n",
       "</div>"
      ],
      "text/plain": [
       "      CRIM    ZN  INDUS  CHAS    NOX     RM   AGE     DIS  RAD    TAX  \\\n",
       "0  0.00632  18.0   2.31     0  0.538  6.575  65.2  4.0900    1  296.0   \n",
       "1  0.02731   0.0   7.07     0  0.469  6.421  78.9  4.9671    2  242.0   \n",
       "2  0.02729   0.0   7.07     0  0.469  7.185  61.1  4.9671    2  242.0   \n",
       "3  0.03237   0.0   2.18     0  0.458  6.998  45.8  6.0622    3  222.0   \n",
       "4  0.06905   0.0   2.18     0  0.458  7.147  54.2  6.0622    3  222.0   \n",
       "\n",
       "   PTRATIO       B  LSTAT  PRICE  \n",
       "0     15.3  396.90   4.98   24.0  \n",
       "1     17.8  396.90   9.14   21.6  \n",
       "2     17.8  392.83   4.03   34.7  \n",
       "3     18.7  394.63   2.94   33.4  \n",
       "4     18.7  396.90   5.33   36.2  "
      ]
     },
     "execution_count": 4,
     "metadata": {},
     "output_type": "execute_result"
    }
   ],
   "source": [
    "Boston=Boston.rename(columns={'MEDV':'PRICE'})\n",
    "Boston.head()"
   ]
  },
  {
   "cell_type": "markdown",
   "id": "51e5227d",
   "metadata": {},
   "source": [
    "### To know tha number of columns and rows in the dataset"
   ]
  },
  {
   "cell_type": "code",
   "execution_count": 5,
   "id": "587e444d",
   "metadata": {},
   "outputs": [
    {
     "data": {
      "text/plain": [
       "(506, 14)"
      ]
     },
     "execution_count": 5,
     "metadata": {},
     "output_type": "execute_result"
    }
   ],
   "source": [
    "Boston.shape"
   ]
  },
  {
   "cell_type": "markdown",
   "id": "5cebf9c8",
   "metadata": {},
   "source": [
    "### To know the column names in the datset"
   ]
  },
  {
   "cell_type": "code",
   "execution_count": 6,
   "id": "6dc3811f",
   "metadata": {},
   "outputs": [
    {
     "data": {
      "text/plain": [
       "Index(['CRIM', 'ZN', 'INDUS', 'CHAS', 'NOX', 'RM', 'AGE', 'DIS', 'RAD', 'TAX',\n",
       "       'PTRATIO', 'B', 'LSTAT', 'PRICE'],\n",
       "      dtype='object')"
      ]
     },
     "execution_count": 6,
     "metadata": {},
     "output_type": "execute_result"
    }
   ],
   "source": [
    "Boston.columns"
   ]
  },
  {
   "cell_type": "markdown",
   "id": "cb3ce200",
   "metadata": {},
   "source": [
    "### To know the missing values "
   ]
  },
  {
   "cell_type": "code",
   "execution_count": 7,
   "id": "7bd1bafd",
   "metadata": {},
   "outputs": [
    {
     "data": {
      "text/plain": [
       "CRIM       0\n",
       "ZN         0\n",
       "INDUS      0\n",
       "CHAS       0\n",
       "NOX        0\n",
       "RM         0\n",
       "AGE        0\n",
       "DIS        0\n",
       "RAD        0\n",
       "TAX        0\n",
       "PTRATIO    0\n",
       "B          0\n",
       "LSTAT      0\n",
       "PRICE      0\n",
       "dtype: int64"
      ]
     },
     "execution_count": 7,
     "metadata": {},
     "output_type": "execute_result"
    }
   ],
   "source": [
    "Boston.isnull().sum()"
   ]
  },
  {
   "cell_type": "markdown",
   "id": "32fc4cde",
   "metadata": {},
   "source": [
    "\n"
   ]
  },
  {
   "cell_type": "code",
   "execution_count": 8,
   "id": "4d38be7c",
   "metadata": {},
   "outputs": [
    {
     "data": {
      "text/plain": [
       "<bound method DataFrame.info of         CRIM    ZN  INDUS  CHAS    NOX     RM   AGE     DIS  RAD    TAX  \\\n",
       "0    0.00632  18.0   2.31     0  0.538  6.575  65.2  4.0900    1  296.0   \n",
       "1    0.02731   0.0   7.07     0  0.469  6.421  78.9  4.9671    2  242.0   \n",
       "2    0.02729   0.0   7.07     0  0.469  7.185  61.1  4.9671    2  242.0   \n",
       "3    0.03237   0.0   2.18     0  0.458  6.998  45.8  6.0622    3  222.0   \n",
       "4    0.06905   0.0   2.18     0  0.458  7.147  54.2  6.0622    3  222.0   \n",
       "..       ...   ...    ...   ...    ...    ...   ...     ...  ...    ...   \n",
       "501  0.06263   0.0  11.93     0  0.573  6.593  69.1  2.4786    1  273.0   \n",
       "502  0.04527   0.0  11.93     0  0.573  6.120  76.7  2.2875    1  273.0   \n",
       "503  0.06076   0.0  11.93     0  0.573  6.976  91.0  2.1675    1  273.0   \n",
       "504  0.10959   0.0  11.93     0  0.573  6.794  89.3  2.3889    1  273.0   \n",
       "505  0.04741   0.0  11.93     0  0.573  6.030  80.8  2.5050    1  273.0   \n",
       "\n",
       "     PTRATIO       B  LSTAT  PRICE  \n",
       "0       15.3  396.90   4.98   24.0  \n",
       "1       17.8  396.90   9.14   21.6  \n",
       "2       17.8  392.83   4.03   34.7  \n",
       "3       18.7  394.63   2.94   33.4  \n",
       "4       18.7  396.90   5.33   36.2  \n",
       "..       ...     ...    ...    ...  \n",
       "501     21.0  391.99   9.67   22.4  \n",
       "502     21.0  396.90   9.08   20.6  \n",
       "503     21.0  396.90   5.64   23.9  \n",
       "504     21.0  393.45   6.48   22.0  \n",
       "505     21.0  396.90   7.88   11.9  \n",
       "\n",
       "[506 rows x 14 columns]>"
      ]
     },
     "execution_count": 8,
     "metadata": {},
     "output_type": "execute_result"
    }
   ],
   "source": [
    "Boston.info"
   ]
  },
  {
   "cell_type": "markdown",
   "id": "2bab176c",
   "metadata": {},
   "source": [
    "### To know the data types"
   ]
  },
  {
   "cell_type": "code",
   "execution_count": 11,
   "id": "14611b7d",
   "metadata": {},
   "outputs": [
    {
     "data": {
      "text/plain": [
       "CRIM       float64\n",
       "ZN         float64\n",
       "INDUS      float64\n",
       "CHAS         int64\n",
       "NOX        float64\n",
       "RM         float64\n",
       "AGE        float64\n",
       "DIS        float64\n",
       "RAD          int64\n",
       "TAX        float64\n",
       "PTRATIO    float64\n",
       "B          float64\n",
       "LSTAT      float64\n",
       "PRICE      float64\n",
       "dtype: object"
      ]
     },
     "execution_count": 11,
     "metadata": {},
     "output_type": "execute_result"
    }
   ],
   "source": [
    "Boston.dtypes"
   ]
  },
  {
   "cell_type": "markdown",
   "id": "a8631f63",
   "metadata": {},
   "source": [
    "Machine Learning "
   ]
  },
  {
   "cell_type": "markdown",
   "id": "b4803eaf",
   "metadata": {},
   "source": [
    "To obtain input and target varible"
   ]
  },
  {
   "cell_type": "code",
   "execution_count": 12,
   "id": "58430ef9",
   "metadata": {},
   "outputs": [
    {
     "data": {
      "text/plain": [
       "0      24.0\n",
       "1      21.6\n",
       "2      34.7\n",
       "3      33.4\n",
       "4      36.2\n",
       "       ... \n",
       "501    22.4\n",
       "502    20.6\n",
       "503    23.9\n",
       "504    22.0\n",
       "505    11.9\n",
       "Name: PRICE, Length: 506, dtype: float64"
      ]
     },
     "execution_count": 12,
     "metadata": {},
     "output_type": "execute_result"
    }
   ],
   "source": [
    "inputs=Boston.drop('PRICE',axis='columns')\n",
    "target=Boston.PRICE\n",
    "target"
   ]
  },
  {
   "cell_type": "markdown",
   "id": "601e5e1b",
   "metadata": {},
   "source": [
    "### Training the model"
   ]
  },
  {
   "cell_type": "code",
   "execution_count": 13,
   "id": "171478ee",
   "metadata": {},
   "outputs": [],
   "source": [
    "from sklearn.model_selection import train_test_split\n",
    "\n",
    "X_train,X_test,y_train,y_test=train_test_split(inputs,target,test_size=0.3)"
   ]
  },
  {
   "cell_type": "markdown",
   "id": "48c035c1",
   "metadata": {},
   "source": [
    "### Linear Regression"
   ]
  },
  {
   "cell_type": "code",
   "execution_count": 14,
   "id": "41868bd3",
   "metadata": {},
   "outputs": [
    {
     "data": {
      "text/plain": [
       "LinearRegression()"
      ]
     },
     "execution_count": 14,
     "metadata": {},
     "output_type": "execute_result"
    }
   ],
   "source": [
    "reg=linear_model.LinearRegression()\n",
    "reg.fit(X_train,y_train)"
   ]
  },
  {
   "cell_type": "code",
   "execution_count": null,
   "id": "42dd5d31",
   "metadata": {},
   "outputs": [],
   "source": []
  },
  {
   "cell_type": "code",
   "execution_count": 15,
   "id": "1dadb5d5",
   "metadata": {},
   "outputs": [
    {
     "data": {
      "text/plain": [
       "array([ 2.99622856e+01,  5.65438115e+00,  2.07936706e+01,  2.85536449e+01,\n",
       "        2.11242808e+01,  2.12413333e+01,  8.32525316e+00,  2.09178268e+01,\n",
       "        1.24569012e+01,  2.05161661e+01,  2.42804544e+01,  1.72424523e+01,\n",
       "        7.55002123e+00,  2.30996281e+01,  1.59812465e+01,  1.10510200e+01,\n",
       "        1.99996590e+01,  2.26483128e+01,  3.33741073e+01,  3.86418019e+01,\n",
       "        1.92018704e+01,  1.91864238e+01,  3.02638025e+01,  4.21067256e+01,\n",
       "        2.34575362e+01,  3.13377302e+01, -5.94932824e-01,  1.80008129e+01,\n",
       "        2.09612383e+01,  1.10927183e+01,  2.47512987e+01,  1.61617139e+01,\n",
       "        2.06912891e+01,  1.38401535e+01,  2.14749708e+01,  2.34103684e+01,\n",
       "        9.03729897e+00,  2.22928403e+01,  1.76946937e+01,  1.19157952e+01,\n",
       "        1.68292679e+01,  2.43890180e+01,  2.31781224e+01,  1.31315139e+01,\n",
       "        7.95054442e+00,  1.55126093e+01,  1.42243613e+01,  2.49380375e+01,\n",
       "        3.61052925e+01,  8.82645687e+00,  2.50284534e+01,  2.05841079e+01,\n",
       "        1.19859849e+01,  2.58609331e+01,  2.35744619e+01,  2.69425908e+01,\n",
       "        8.26701377e+00,  1.91268509e+01,  1.52006675e+01,  2.04081615e+01,\n",
       "        1.86927381e+01,  2.71760915e+01,  3.10584721e+01,  1.91633600e+01,\n",
       "        1.32291813e+01,  2.36159541e+01,  3.23744682e+01,  1.45354854e+01,\n",
       "        2.29987232e+01,  3.09451057e+01,  1.50109766e+01,  1.90591900e+01,\n",
       "        1.41989073e+01,  1.98011956e+01,  2.09446431e+01,  2.88629639e+01,\n",
       "        1.61266954e+01,  2.71542422e+01,  6.17909736e+00,  2.09968663e+01,\n",
       "        1.66706018e+01,  2.46461936e+01,  1.62452824e+01,  2.01249644e+01,\n",
       "        3.66207247e+01,  2.81824056e+01,  2.11251775e+01,  2.19748322e+01,\n",
       "        2.42234496e+01,  1.83897802e+01,  3.73502169e+01,  1.71515960e+01,\n",
       "        4.18632522e-02,  3.58115526e+01,  2.15461927e+01,  3.41243000e+01,\n",
       "        2.33719212e+01,  1.71263095e+01,  3.29223193e+01,  1.10396452e+01,\n",
       "        2.28945404e+00,  2.16935736e+01,  2.29341321e+01,  2.08183143e+01,\n",
       "        1.87612877e+01,  3.15566787e+01,  1.95027250e+01,  8.05456439e+00,\n",
       "        1.89803118e+01,  2.53575182e+01,  1.20533367e+01,  2.09404588e+01,\n",
       "        2.04026270e+01,  2.19536457e+01,  1.74446250e+01,  3.14352368e+01,\n",
       "        2.44020272e+01,  3.89288627e+01,  2.53848370e+01,  1.15970230e+01,\n",
       "        2.30604442e+01,  1.94581891e+01,  1.99820409e+01,  2.38338251e+01,\n",
       "        3.45852066e+01,  5.37054025e+00,  2.88307125e+01,  1.34232363e+01,\n",
       "       -6.67413951e+00,  3.28880496e+01,  2.88918243e+01,  2.38400371e+01,\n",
       "        2.06125111e+01,  3.32823913e+01,  2.06822899e+01,  3.87158163e+01,\n",
       "        2.73398611e+01,  1.85080445e+01,  3.04910200e+01,  2.01648547e+01,\n",
       "        2.81172013e+01,  2.51894435e+01,  1.14249728e+01,  2.46192923e+01,\n",
       "        1.31671515e+01,  3.29009841e+01,  1.59730308e+01,  2.88894659e+01,\n",
       "        2.17382134e+01,  2.15017991e+01,  2.62247233e+01,  3.77132695e+01])"
      ]
     },
     "execution_count": 15,
     "metadata": {},
     "output_type": "execute_result"
    }
   ],
   "source": [
    "reg.predict(X_test)"
   ]
  },
  {
   "cell_type": "markdown",
   "id": "2782527b",
   "metadata": {},
   "source": [
    "### Value of the coefficent"
   ]
  },
  {
   "cell_type": "code",
   "execution_count": 16,
   "id": "0f612b8a",
   "metadata": {},
   "outputs": [
    {
     "data": {
      "text/plain": [
       "array([-1.22356810e-01,  4.40315206e-02,  2.50909630e-02,  3.54027627e+00,\n",
       "       -1.65704794e+01,  4.23278421e+00, -8.83411133e-03, -1.54467138e+00,\n",
       "        2.79611833e-01, -9.06850369e-03, -9.02663309e-01,  1.39536106e-02,\n",
       "       -5.36484980e-01])"
      ]
     },
     "execution_count": 16,
     "metadata": {},
     "output_type": "execute_result"
    }
   ],
   "source": [
    "reg.coef_"
   ]
  },
  {
   "cell_type": "markdown",
   "id": "43b5d739",
   "metadata": {},
   "source": [
    "### Value of the intercept"
   ]
  },
  {
   "cell_type": "code",
   "execution_count": 17,
   "id": "7a6c0f52",
   "metadata": {},
   "outputs": [
    {
     "data": {
      "text/plain": [
       "30.439504242532777"
      ]
     },
     "execution_count": 17,
     "metadata": {},
     "output_type": "execute_result"
    }
   ],
   "source": [
    "reg.intercept_"
   ]
  },
  {
   "cell_type": "code",
   "execution_count": 19,
   "id": "6dfe6fbe",
   "metadata": {},
   "outputs": [
    {
     "data": {
      "text/plain": [
       "array([40.49886347, 22.75979545, 33.0976474 , 24.89643242, 30.11709587,\n",
       "       34.46110536, 28.54604457, 41.25152949, 20.97382052, 22.0083118 ,\n",
       "       24.29703833, 20.5837936 , 30.31179574, 30.45229161, 22.25308161,\n",
       "       21.18521946, 20.53342303, 23.04239439, 20.82546856, 17.85799434,\n",
       "       23.82610333, 19.33997364, 25.11447785, 30.94316439, 15.75874787,\n",
       "       28.80427897, 34.62617106, 36.28776901, 43.87660593, 25.36237826,\n",
       "       14.73401671, 17.10919167,  3.79623527, 22.75307637, 33.38818007,\n",
       "       18.56517805, 25.60703167, 24.88553795, 26.37073619, 25.27830699,\n",
       "       28.62834832, 33.6379691 , 25.19304335, 18.9919713 , 28.31660918,\n",
       "        3.63885848, 14.35829871, 11.17732689, 33.46689479, 25.99957793,\n",
       "       25.00147912, 13.79889959, 24.00897426, 12.90761481, 14.12471669,\n",
       "       15.37210997, 18.64303807, 20.12377163, 25.94316746, 22.34456797,\n",
       "       21.95583005, 26.6898007 , 12.89851418, 13.81000133, 15.084751  ,\n",
       "       37.07649489, 26.19688411, 34.74161181, 23.47731483, 34.28891752,\n",
       "       37.85372159, 35.88788489, 30.31144921, 16.63628073, 17.83446942,\n",
       "       34.29447434, 11.77522006, 18.85863672, 27.05621606, 13.59270839,\n",
       "       20.56797072, 23.85654311, 25.25014329, 11.79228154, 20.16415104,\n",
       "       30.48398226, 19.94836197, 10.23029842, 17.8589258 , 41.01989666,\n",
       "       27.31723127, 36.25214705, 16.68077738, 19.49084476, 16.41803525,\n",
       "       24.37737287, 45.58471746, 27.9125714 , 10.67920638, 24.58311393,\n",
       "       27.97283719, 16.94813954, 24.50516442, 28.69966979, 20.76011767,\n",
       "       23.25049526, 31.05960257, 18.18118959, 26.13956746, 20.66928936,\n",
       "       13.90194621, 15.22092419, 23.66353879, 19.7981477 , 19.50042529,\n",
       "       21.67085591, 30.85748406, 13.43474262, 18.30861763, 14.01623301,\n",
       "       31.80659398, 17.03644479, 15.49637105, 24.60065791, 23.51133043,\n",
       "       20.90861096, 24.78901686, 21.04155403, 16.99364259, 23.99708036,\n",
       "       19.33583503, 19.88800795, 17.10379847, 36.52806306, 30.43761991,\n",
       "        6.07148195, 18.66639953, 11.96358836, 23.99609653, 18.89503917,\n",
       "       18.30512987, 12.31302601, 35.67849778, 16.23130124, 20.66268662,\n",
       "       21.35283745, 21.02675436, 43.65397566, 24.29425188, 15.37999192,\n",
       "       20.56057328, 24.13935765, 21.03100784, 23.39806648, 22.25191677,\n",
       "       19.90164465, 28.78229284, 33.85230545, 10.93035002, 21.7658097 ,\n",
       "       14.87387281, 23.51441312, 20.11368759,  3.68381282, 34.98539801,\n",
       "       12.69346156, 24.14592287, 18.03664642,  7.67922212, 13.5165393 ,\n",
       "       31.38980816, 21.95099397, 19.1717239 , 35.50383701, 23.79191919,\n",
       "       21.369183  , 32.29594341, 37.96969792, 27.0277451 ,  5.50944174,\n",
       "       19.85853487, 13.92715323, 24.80633293, 27.68837609, 27.52707128,\n",
       "        5.85616075, 13.90234288, 36.29534066, 19.95975873, 25.79939987,\n",
       "       25.02802429, 34.78938796, 33.47973632, 25.3634179 , 26.37492786,\n",
       "       28.28728466, 23.21469443, 18.4054055 ,  7.3326171 , 15.67643869,\n",
       "        6.84857902, 22.44692811, 32.40654346, 16.27935949, 21.77201911,\n",
       "       13.56991339, 23.22506925, 12.83085962, 22.01055548, 22.95423057,\n",
       "       27.21195951, 18.27615921, 32.00029396, 19.72823352, 17.23598166,\n",
       "       34.56755654,  9.80151972, 21.52473282, 23.86177984, 17.99569531,\n",
       "       14.91389834, 41.10355362, 17.55335287, 33.40182242, 30.65734908,\n",
       "       29.57049752, 32.18103368, 26.595933  , 27.23473994, 24.58589839,\n",
       "       27.76519094, 17.32355464, 12.60206268, 19.84797699, 19.6112486 ,\n",
       "        7.61452504, 25.39540798, 30.65885775, 22.90395232, 30.50722523,\n",
       "       20.86396713,  7.35161107, 26.6151162 , 18.18496039, 23.60161786,\n",
       "       21.85391527, 22.86906401, 19.41866884, 17.29116675, 20.52402383,\n",
       "       15.31391058, 37.16240619, 24.39223588, 26.1441085 , 27.21134525,\n",
       "       20.36693083, 27.00683808, 29.50820083, 24.46237733, 21.50408747,\n",
       "       15.50219232, 42.08624828, 17.9632029 , 40.1470916 , 32.65349581,\n",
       "       32.36581451, 14.30953395, 10.68207537, 20.39102457, 22.36005654,\n",
       "       21.39714076, 21.09003784, 32.59474352, 37.42377962, 36.28493426,\n",
       "       28.34478191, 29.16958264, 21.81916737, 18.71717471, 41.33544177,\n",
       "       24.11247416, 10.58476944, 23.05838723,  8.17844394, 26.57285136,\n",
       "       28.49173517, 36.47624706, 23.52258502, 19.86416278, 19.94379071,\n",
       "       33.9130573 , 25.44751111, 13.22233416, 17.26180454, 21.85481627,\n",
       "       13.36453859, 25.16867086, 39.56366666, 31.08006743, 16.80788747,\n",
       "       18.39130354, 22.47244392, 22.55095423, 24.88405832, 30.98445624,\n",
       "       12.80333305, 27.24323159, 26.63789432, 18.03516518, 18.19598403,\n",
       "       22.27618411, 20.91407291, 13.6103121 , 13.09604589, 31.55911043,\n",
       "       27.03180944, 35.17972945, 17.2538664 , 20.88289359, 20.85061142,\n",
       "       16.59326022, 28.91583044, 12.62312669, 43.33351762, 16.3385962 ,\n",
       "       22.58520583, 27.92981418, 25.96339207, 26.71696137, 19.25292526,\n",
       "       22.79163614, 17.398881  , 37.6140734 , 15.17546063, 28.79394769,\n",
       "       15.37307354, 22.33731178, 19.23619334, 17.57158588, 32.5069167 ,\n",
       "        9.23488146, 18.30067871, 17.98060652, 17.19675806, 30.70363635,\n",
       "       19.88828469,  3.94281314, 33.72832033, 27.65494442, 25.56331857,\n",
       "       19.13216718, 12.44228797, 28.94283563, 17.05239743])"
      ]
     },
     "execution_count": 19,
     "metadata": {},
     "output_type": "execute_result"
    }
   ],
   "source": [
    "# Model prediction on train data\n",
    "y_pred=reg.predict(X_train)\n",
    "y_pred"
   ]
  },
  {
   "cell_type": "markdown",
   "id": "da390c92",
   "metadata": {},
   "source": [
    "### Visualise the difference between the actual and the predicted prices"
   ]
  },
  {
   "cell_type": "code",
   "execution_count": 25,
   "id": "e0b613a0",
   "metadata": {},
   "outputs": [
    {
     "data": {
      "image/png": "[encoded data removed]",
      "text/plain": [
       "<Figure size 640x480 with 1 Axes>"
      ]
     },
     "metadata": {},
     "output_type": "display_data"
    }
   ],
   "source": [
    "plt.scatter(y_train,y_pred, marker='*',color='green')\n",
    "plt.xlabel('Actual_Price')\n",
    "plt.ylabel('Predicted_Price')\n",
    "plt.title('Actual price Vs Predicted Price')\n",
    "plt.show()            \n",
    "            "
   ]
  },
  {
   "cell_type": "code",
   "execution_count": null,
   "id": "5c33f1fa",
   "metadata": {},
   "outputs": [],
   "source": []
  },
  {
   "cell_type": "code",
   "execution_count": 32,
   "id": "79331cff",
   "metadata": {},
   "outputs": [
    {
     "data": {
      "image/png": "[encoded data removed]",
      "text/plain": [
       "<Figure size 640x480 with 1 Axes>"
      ]
     },
     "metadata": {},
     "output_type": "display_data"
    }
   ],
   "source": [
    "sns.lineplot(y_pred,  color = \"blue\", label='Predicted')\n",
    "sns.lineplot(y_train,  color = \"Green\", label='Actual')\n",
    "plt.title('Predictions vs Actual')\n",
    "plt.ylabel('Counts')\n",
    "plt.legend()\n",
    "plt.show()"
   ]
  },
  {
   "cell_type": "markdown",
   "id": "3e7a24ff",
   "metadata": {},
   "source": [
    "### MODEL EVAUATION"
   ]
  },
  {
   "cell_type": "code",
   "execution_count": 35,
   "id": "46578543",
   "metadata": {},
   "outputs": [
    {
     "name": "stdout",
     "output_type": "stream",
     "text": [
      "R^2: 0.7311568708872487\n",
      "Adjusted R^2: 0.7208775747741141\n",
      "MAE: 3.439960953042946\n",
      "MSE: 23.658613699645773\n",
      "RMSE: 4.864012099043934\n"
     ]
    }
   ],
   "source": [
    "print('R^2:',metrics.r2_score(y_train, y_pred))\n",
    "print('Adjusted R^2:',1 - (1-metrics.r2_score(y_train, y_pred))*(len(y_train)-1)/(len(y_train)-X_train.shape[1]-1))\n",
    "print('MAE:',metrics.mean_absolute_error(y_train, y_pred))\n",
    "print('MSE:',metrics.mean_squared_error(y_train, y_pred))\n",
    "print('RMSE:',np.sqrt(metrics.mean_squared_error(y_train, y_pred)))"
   ]
  },
  {
   "cell_type": "code",
   "execution_count": null,
   "id": "3a739d76",
   "metadata": {},
   "outputs": [],
   "source": []
  }
 ],
 "metadata": {
  "kernelspec": {
   "display_name": "Python 3 (ipykernel)",
   "language": "python",
   "name": "python3"
  },
  "language_info": {
   "codemirror_mode": {
    "name": "ipython",
    "version": 3
   },
   "file_extension": ".py",
   "mimetype": "text/x-python",
   "name": "python",
   "nbconvert_exporter": "python",
   "pygments_lexer": "ipython3",
   "version": "3.9.15"
  }
 },
 "nbformat": 4,
 "nbformat_minor": 5
}
